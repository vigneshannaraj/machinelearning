{
 "cells": [
  {
   "cell_type": "markdown",
   "id": "697d3849",
   "metadata": {},
   "source": [
    "radians sin cos acos\n",
    "rad=6371\n",
    "formula=acos((sin(1lat)*sin(2lat))+(cos(1lat)*cos(2lat)*cos(2lon-1lon)))\n",
    "dist=rad*formula"
   ]
  },
  {
   "cell_type": "code",
   "execution_count": 1,
   "id": "5b18d90f",
   "metadata": {},
   "outputs": [],
   "source": [
    "import numpy as np\n",
    "import pandas as pd"
   ]
  },
  {
   "cell_type": "markdown",
   "id": "6bbefdbc",
   "metadata": {},
   "source": [
    "# Data cleaning"
   ]
  },
  {
   "cell_type": "code",
   "execution_count": 52,
   "id": "36ebf003",
   "metadata": {},
   "outputs": [
    {
     "name": "stdout",
     "output_type": "stream",
     "text": [
      "<class 'pandas.core.frame.DataFrame'>\n",
      "RangeIndex: 45593 entries, 0 to 45592\n",
      "Data columns (total 18 columns):\n",
      " #   Column                       Non-Null Count  Dtype \n",
      "---  ------                       --------------  ----- \n",
      " 0   Delivery_person_Age          45593 non-null  object\n",
      " 1   Delivery_person_Ratings      45593 non-null  object\n",
      " 2   Restaurant_latitude          45593 non-null  object\n",
      " 3   Restaurant_longitude         45593 non-null  object\n",
      " 4   Delivery_location_latitude   45593 non-null  object\n",
      " 5   Delivery_location_longitude  45593 non-null  object\n",
      " 6   Order_Date                   45593 non-null  object\n",
      " 7   Time_Orderd                  45593 non-null  object\n",
      " 8   Time_Order_picked            45593 non-null  object\n",
      " 9   Weatherconditions            45593 non-null  object\n",
      " 10  Road_traffic_density         45593 non-null  object\n",
      " 11  Vehicle_condition            45593 non-null  object\n",
      " 12  Type_of_order                45593 non-null  object\n",
      " 13  Type_of_vehicle              45593 non-null  object\n",
      " 14  multiple_deliveries          45593 non-null  object\n",
      " 15  Festival                     45593 non-null  object\n",
      " 16  City                         45593 non-null  object\n",
      " 17  Time_taken(min)              45593 non-null  object\n",
      "dtypes: object(18)\n",
      "memory usage: 6.3+ MB\n",
      "None\n"
     ]
    }
   ],
   "source": [
    "dataset_train=pd.read_csv('D:/lib/delivery time predit/train.csv')\n",
    "dataset_train.drop(['ID','Delivery_person_ID'],axis=1,inplace=True)\n",
    "col=dataset_train.columns.to_list()\n",
    "for i in col:\n",
    "    dataset_train[i]=dataset_train[i].astype(object)\n",
    "print(dataset_train.info())"
   ]
  },
  {
   "cell_type": "code",
   "execution_count": 53,
   "id": "902fd527",
   "metadata": {},
   "outputs": [],
   "source": [
    "df=dataset_train[['Restaurant_latitude','Restaurant_longitude','Delivery_location_latitude',\n",
    "                  'Delivery_location_longitude']]\n",
    "distan=[]\n",
    "from math import radians,cos,sin,acos\n",
    "rad=6371\n",
    "for i,j in df.iterrows():\n",
    "    temp=j\n",
    "    lat1=temp[temp.index=='Restaurant_latitude'].values\n",
    "    lat2=temp[temp.index=='Delivery_location_latitude'].values\n",
    "    lon1=temp[temp.index=='Restaurant_longitude'].values\n",
    "    lon2=temp[temp.index=='Delivery_location_longitude'].values\n",
    "    lat1 =radians(lat1)\n",
    "    lat2 =radians(lat2)\n",
    "    lon1 =radians(lon1)\n",
    "    lon2 =radians(lon2)\n",
    "    formula=acos((sin(lat1)*sin(lat2))+(cos(lat1)*cos(lat2)*cos(lon2-lon1)))\n",
    "    dist=rad*formula\n",
    "    distan.append(dist)\n",
    "distance=pd.Series(distan,name='Distance')"
   ]
  },
  {
   "cell_type": "code",
   "execution_count": 54,
   "id": "06831d77",
   "metadata": {},
   "outputs": [],
   "source": [
    "dataset_train.drop(['Restaurant_latitude','Restaurant_longitude','Delivery_location_latitude',\n",
    "                  'Delivery_location_longitude'],axis=1,inplace=True)\n",
    "dataset_train=pd.concat([dataset_train,distance],axis=1)\n",
    "dataset_train[\"Time_taken(min)\"] = dataset_train[\"Time_taken(min)\"].str.replace(\"(min)\",\"\")\n",
    "dataset_train[\"Weatherconditions\"] = dataset_train[\"Weatherconditions\"].str.replace(\"conditions\",\"\")\n",
    "dataset_train['Distance']=dataset_train[\"Distance\"].round(decimals=1)"
   ]
  },
  {
   "cell_type": "code",
   "execution_count": 55,
   "id": "f886974a",
   "metadata": {},
   "outputs": [],
   "source": [
    "dataset_train[\"City\"]=dataset_train[\"City\"].str.replace(\"NaN\",\"other\")\n",
    "col=dataset_train.columns.to_list()\n",
    "for i in col:\n",
    "    place=dataset_train[dataset_train[i]=='NaN '].index\n",
    "    dataset_train.drop(place,inplace=True)"
   ]
  },
  {
   "cell_type": "code",
   "execution_count": 56,
   "id": "c48737a5",
   "metadata": {},
   "outputs": [
    {
     "name": "stderr",
     "output_type": "stream",
     "text": [
      "C:\\Users\\vigne\\AppData\\Local\\Temp\\ipykernel_16368\\3710773355.py:1: UserWarning: Parsing dates in %d-%m-%Y format when dayfirst=False (the default) was specified. Pass `dayfirst=True` or specify a format to silence this warning.\n",
      "  dataset_train[\"Order_Date\"] = pd.to_datetime(dataset_train.Order_Date)\n",
      "C:\\Users\\vigne\\AppData\\Local\\Temp\\ipykernel_16368\\3710773355.py:6: UserWarning: Could not infer format, so each element will be parsed individually, falling back to `dateutil`. To ensure parsing is consistent and as-expected, please specify a format.\n",
      "  dataset_train[\"Time_Orderd\"] = pd.to_datetime(dataset_train.Time_Orderd)\n",
      "C:\\Users\\vigne\\AppData\\Local\\Temp\\ipykernel_16368\\3710773355.py:10: UserWarning: Could not infer format, so each element will be parsed individually, falling back to `dateutil`. To ensure parsing is consistent and as-expected, please specify a format.\n",
      "  dataset_train[\"Time_Order_picked\"] = pd.to_datetime(dataset_train.Time_Order_picked)\n"
     ]
    }
   ],
   "source": [
    "dataset_train[\"Order_Date\"] = pd.to_datetime(dataset_train.Order_Date)\n",
    "dataset_train['year'] = dataset_train['Order_Date'].dt.year \n",
    "dataset_train['month'] = dataset_train['Order_Date'].dt.month \n",
    "dataset_train[\"day\"]=dataset_train[\"Order_Date\"].dt.day\n",
    "\n",
    "dataset_train[\"Time_Orderd\"] = pd.to_datetime(dataset_train.Time_Orderd)\n",
    "dataset_train['time_ord_hour'] = dataset_train['Time_Orderd'].dt.hour \n",
    "dataset_train['time_ord_minute'] = dataset_train['Time_Orderd'].dt.minute\n",
    "\n",
    "dataset_train[\"Time_Order_picked\"] = pd.to_datetime(dataset_train.Time_Order_picked)\n",
    "dataset_train['time_order_picked_hour'] = dataset_train['Time_Order_picked'].dt.hour \n",
    "dataset_train['time_order_picked_minute'] = dataset_train['Time_Order_picked'].dt.minute\n",
    "\n",
    "dataset_train.drop([\"Time_Orderd\",\"Time_Order_picked\",\"Order_Date\"],axis=1,inplace=True)"
   ]
  },
  {
   "cell_type": "code",
   "execution_count": 57,
   "id": "8c767ac2",
   "metadata": {},
   "outputs": [
    {
     "name": "stdout",
     "output_type": "stream",
     "text": [
      "<class 'pandas.core.frame.DataFrame'>\n",
      "Index: 42453 entries, 0 to 45592\n",
      "Data columns (total 19 columns):\n",
      " #   Column                    Non-Null Count  Dtype  \n",
      "---  ------                    --------------  -----  \n",
      " 0   Delivery_person_Age       42453 non-null  int32  \n",
      " 1   Delivery_person_Ratings   42453 non-null  float64\n",
      " 2   Weatherconditions         42453 non-null  object \n",
      " 3   Road_traffic_density      42453 non-null  object \n",
      " 4   Vehicle_condition         42453 non-null  int32  \n",
      " 5   Type_of_order             42453 non-null  object \n",
      " 6   Type_of_vehicle           42453 non-null  object \n",
      " 7   multiple_deliveries       42453 non-null  int32  \n",
      " 8   Festival                  42453 non-null  object \n",
      " 9   City                      42453 non-null  object \n",
      " 10  Time_taken(min)           42453 non-null  int32  \n",
      " 11  Distance                  42453 non-null  float64\n",
      " 12  year                      42453 non-null  int32  \n",
      " 13  month                     42453 non-null  int32  \n",
      " 14  day                       42453 non-null  int32  \n",
      " 15  time_ord_hour             42453 non-null  int32  \n",
      " 16  time_ord_minute           42453 non-null  int32  \n",
      " 17  time_order_picked_hour    42453 non-null  int32  \n",
      " 18  time_order_picked_minute  42453 non-null  int32  \n",
      "dtypes: float64(2), int32(11), object(6)\n",
      "memory usage: 4.7+ MB\n",
      "None\n"
     ]
    }
   ],
   "source": [
    "convert={'Delivery_person_Age':int,'Delivery_person_Ratings':float,'Vehicle_condition':int,\n",
    "        'multiple_deliveries':int,'Time_taken(min)':int,'Distance':float,'year':int,\n",
    "        'month':int,'day':int,'time_ord_hour':int,'time_ord_minute':int,'time_order_picked_hour':int,\n",
    "        'time_order_picked_minute':int}\n",
    "dataset_train=dataset_train.astype(convert)\n",
    "print(dataset_train.info())"
   ]
  },
  {
   "cell_type": "code",
   "execution_count": 58,
   "id": "41ee91c0",
   "metadata": {},
   "outputs": [
    {
     "name": "stdout",
     "output_type": "stream",
     "text": [
      "       Delivery_person_Age  Delivery_person_Ratings Weatherconditions  \\\n",
      "0                       37                      4.9             Sunny   \n",
      "1                       34                      4.5            Stormy   \n",
      "2                       23                      4.4        Sandstorms   \n",
      "3                       38                      4.7             Sunny   \n",
      "4                       32                      4.6            Cloudy   \n",
      "...                    ...                      ...               ...   \n",
      "42448                   30                      4.8             Windy   \n",
      "42449                   21                      4.6             Windy   \n",
      "42450                   30                      4.9            Cloudy   \n",
      "42451                   20                      4.7            Cloudy   \n",
      "42452                   23                      4.9               Fog   \n",
      "\n",
      "      Road_traffic_density  Vehicle_condition Type_of_order Type_of_vehicle  \\\n",
      "0                    High                   2        Snack      motorcycle    \n",
      "1                     Jam                   2        Snack         scooter    \n",
      "2                     Low                   0       Drinks      motorcycle    \n",
      "3                  Medium                   0       Buffet      motorcycle    \n",
      "4                    High                   1        Snack         scooter    \n",
      "...                    ...                ...           ...             ...   \n",
      "42448                High                   1         Meal      motorcycle    \n",
      "42449                 Jam                   0       Buffet      motorcycle    \n",
      "42450                 Low                   1       Drinks         scooter    \n",
      "42451                High                   0        Snack      motorcycle    \n",
      "42452              Medium                   2        Snack         scooter    \n",
      "\n",
      "       multiple_deliveries Festival            City  Distance  year  month  \\\n",
      "0                        0      No           Urban        3.0  2022      3   \n",
      "1                        1      No   Metropolitian       20.2  2022      3   \n",
      "2                        1      No           Urban        1.6  2022      3   \n",
      "3                        1      No   Metropolitian        7.8  2022      4   \n",
      "4                        1      No   Metropolitian        6.2  2022      3   \n",
      "...                    ...      ...             ...       ...   ...    ...   \n",
      "42448                    0      No   Metropolitian        1.5  2022      3   \n",
      "42449                    1      No   Metropolitian       11.0  2022      2   \n",
      "42450                    0      No   Metropolitian        4.7  2022      3   \n",
      "42451                    1      No   Metropolitian        6.2  2022      3   \n",
      "42452                    1      No   Metropolitian       12.1  2022      3   \n",
      "\n",
      "       day  time_ord_hour  time_ord_minute  time_order_picked_hour  \\\n",
      "0       19             11               30                      11   \n",
      "1       25             19               45                      19   \n",
      "2       19              8               30                       8   \n",
      "3        5             18                0                      18   \n",
      "4       26             13               30                      13   \n",
      "...    ...            ...              ...                     ...   \n",
      "42448   24             11               35                      11   \n",
      "42449   16             19               55                      20   \n",
      "42450   11             23               50                       0   \n",
      "42451    7             13               35                      13   \n",
      "42452    2             17               10                      17   \n",
      "\n",
      "       time_order_picked_minute  Time_taken(min)  \n",
      "0                            45               24  \n",
      "1                            50               33  \n",
      "2                            45               26  \n",
      "3                            10               21  \n",
      "4                            45               30  \n",
      "...                         ...              ...  \n",
      "42448                        45               32  \n",
      "42449                        10               36  \n",
      "42450                         5               16  \n",
      "42451                        40               26  \n",
      "42452                        15               36  \n",
      "\n",
      "[42453 rows x 19 columns]\n"
     ]
    }
   ],
   "source": [
    "dataset_train=dataset_train.reset_index(drop=True)\n",
    "dataset_train=dataset_train[['Delivery_person_Age','Delivery_person_Ratings','Weatherconditions','Road_traffic_density',\n",
    "                'Vehicle_condition','Type_of_order','Type_of_vehicle','multiple_deliveries',\n",
    "                'Festival','City','Distance','year','month','day','time_ord_hour','time_ord_minute',\n",
    "                 'time_order_picked_hour','time_order_picked_minute','Time_taken(min)']]\n",
    "print(dataset_train)\n",
    "path='D:/lib/delivery time predit/clean_train.csv'\n",
    "dataset_train.to_csv(path)"
   ]
  },
  {
   "cell_type": "markdown",
   "id": "9f8447af",
   "metadata": {},
   "source": [
    "# Machine learning"
   ]
  },
  {
   "cell_type": "code",
   "execution_count": 1,
   "id": "e923576c",
   "metadata": {},
   "outputs": [],
   "source": [
    "import numpy as np\n",
    "import pandas as pd\n",
    "dataset=pd.read_csv('D:/lib/delivery time predit/clean_train.csv',index_col=0)\n",
    "from sklearn.model_selection import GridSearchCV"
   ]
  },
  {
   "cell_type": "code",
   "execution_count": 2,
   "id": "d7e030bd",
   "metadata": {},
   "outputs": [],
   "source": [
    "from sklearn import preprocessing\n",
    "le=preprocessing.LabelEncoder()\n",
    "col=dataset.columns.to_list()\n",
    "for i in col:\n",
    "    if dataset[i].dtype==object:\n",
    "        dataset[i]=le.fit_transform(dataset[i])\n",
    "    if dataset[i].dtype==float:\n",
    "        dataset[i]=dataset[i].astype(int)\n",
    "x=dataset.iloc[:,0:18]\n",
    "y=dataset.iloc[:,18]\n",
    "from sklearn.model_selection import train_test_split\n",
    "x_train,x_test,y_train,y_test=train_test_split(x,y,test_size=0.05)"
   ]
  },
  {
   "cell_type": "code",
   "execution_count": 3,
   "id": "1da7f370",
   "metadata": {},
   "outputs": [
    {
     "name": "stdout",
     "output_type": "stream",
     "text": [
      "trainscore= 0.4084138249869834\n",
      "testscore= 0.381587174316835\n",
      "corr= -0.034654167273798275\n",
      "r2score= 0.3814696646396861\n",
      "Mean Squared Error= 52.256712199717384\n",
      "Root Mean Squared Error= 7.2288804250532035\n",
      "same= 118\n",
      "diff= 2005\n"
     ]
    }
   ],
   "source": [
    "from sklearn.linear_model import LinearRegression\n",
    "lin=LinearRegression()\n",
    "lin.fit(x_train,y_train)\n",
    "y_pred=lin.predict(x_test)\n",
    "y_pred=pd.Series(y_pred)\n",
    "y_pred=round(y_pred)\n",
    "y_pred=y_pred.astype(int)\n",
    "print('trainscore=',lin.score(x_train,y_train))\n",
    "print('testscore=',lin.score(x_test,y_test))\n",
    "corr_lin=y_pred.corr(y_test)\n",
    "print('corr=',corr_lin)\n",
    "from sklearn.metrics import mean_squared_error,r2_score\n",
    "r2score_lin=r2_score(y_test,y_pred)\n",
    "print('r2score=',r2score_lin)\n",
    "mse_lin=mean_squared_error(y_test,y_pred)\n",
    "print(\"Mean Squared Error=\",mse_lin)\n",
    "rmse_lin=mean_squared_error(y_test,y_pred,squared=False)\n",
    "print(\"Root Mean Squared Error=\",rmse_lin)\n",
    "same_lin=0\n",
    "diff_lin=0\n",
    "y_test=y_test.to_list()\n",
    "y_pred=y_pred.to_list()\n",
    "for test,pred in zip(y_test,y_pred):\n",
    "    if test==pred:\n",
    "        same_lin=same_lin+1\n",
    "    else:\n",
    "        diff_lin=diff_lin+1\n",
    "print('same=',same_lin)\n",
    "print('diff=',diff_lin)"
   ]
  },
  {
   "cell_type": "code",
   "execution_count": 4,
   "id": "319e6337",
   "metadata": {},
   "outputs": [
    {
     "name": "stdout",
     "output_type": "stream",
     "text": [
      "trainscore= 0.01910478809563665\n",
      "testscore= 0.019148791508220908\n",
      "corr= 0.28309991236534554\n",
      "r2score= 0.020490720036348442\n",
      "Mean Squared Error= 82.75412152614226\n",
      "Root Mean Squared Error= 9.09692923607424\n",
      "same= 93\n",
      "diff= 2030\n"
     ]
    }
   ],
   "source": [
    "from sklearn.svm import SVR\n",
    "svr=SVR()\n",
    "svr.fit(x_train,y_train)\n",
    "print('trainscore=',svr.score(x_train,y_train))\n",
    "y_pred=svr.predict(x_test)\n",
    "grid = {\n",
    "    'C': [0.1,1.0,10.0],\n",
    "    'epsilon': [0.1,0.01,0.001],\n",
    "    'kernel': ['linear','rbf']\n",
    "}\n",
    "#grid_search=GridSearchCV(estimator=svr,param_grid=grid,cv=5)\n",
    "#grid_search.fit(x_train,y_train)\n",
    "#print(grid_search.score(x_train,y_train))\n",
    "#y_pred=grid_search.predict(x_test)\n",
    "y_pred=pd.Series(y_pred)\n",
    "y_test = pd.Series(y_test)\n",
    "y_pred=round(y_pred)\n",
    "y_pred=y_pred.astype(int)\n",
    "print('testscore=',svr.score(x_test,y_test))\n",
    "corr_svm=y_pred.corr(y_test)\n",
    "print('corr=',corr_svm)\n",
    "from sklearn.metrics import mean_squared_error,r2_score\n",
    "r2score_svm=r2_score(y_test,y_pred)\n",
    "print('r2score=',r2score_svm)\n",
    "mse_svm=mean_squared_error(y_test,y_pred)\n",
    "print(\"Mean Squared Error=\",mse_svm)\n",
    "rmse_svm=mean_squared_error(y_test,y_pred,squared=False)\n",
    "print(\"Root Mean Squared Error=\",rmse_svm)\n",
    "same_svm=0\n",
    "diff_svm=0\n",
    "y_test=y_test.to_list()\n",
    "y_pred=y_pred.to_list()\n",
    "for test,pred in zip(y_test,y_pred):\n",
    "    if test==pred:\n",
    "        same_svm=same_svm+1\n",
    "    else:\n",
    "        diff_svm=diff_svm+1\n",
    "print('same=',same_svm)\n",
    "print('diff=',diff_svm)"
   ]
  },
  {
   "cell_type": "code",
   "execution_count": 5,
   "id": "fedae748",
   "metadata": {},
   "outputs": [
    {
     "name": "stdout",
     "output_type": "stream",
     "text": [
      "trainscore= 0.9999364908204749\n",
      "testscore= 0.6168703534705346\n",
      "corr= 0.808556965130523\n",
      "r2score= 0.6168703534705346\n",
      "Mean Squared Error= 32.36881771078662\n",
      "Root Mean Squared Error= 5.689360044045958\n",
      "same= 204\n",
      "diff= 1919\n"
     ]
    }
   ],
   "source": [
    "from sklearn.tree import DecisionTreeRegressor\n",
    "dtree=DecisionTreeRegressor()\n",
    "dtree.fit(x_train,y_train)\n",
    "print('trainscore=',dtree.score(x_train,y_train))\n",
    "y_pred=dtree.predict(x_test)\n",
    "y_pred=pd.Series(y_pred)\n",
    "y_test = pd.Series(y_test)\n",
    "y_pred=round(y_pred)\n",
    "y_pred=y_pred.astype(int)\n",
    "print('testscore=',dtree.score(x_test,y_test))\n",
    "corr_dtree=y_pred.corr(y_test)\n",
    "print('corr=',corr_dtree)\n",
    "from sklearn.metrics import mean_squared_error,r2_score\n",
    "r2score_dtree=r2_score(y_test,y_pred)\n",
    "print('r2score=',r2score_dtree)\n",
    "mse_dtree=mean_squared_error(y_test,y_pred)\n",
    "print(\"Mean Squared Error=\",mse_dtree)\n",
    "rmse_dtree=mean_squared_error(y_test,y_pred,squared=False)\n",
    "print(\"Root Mean Squared Error=\",rmse_dtree)\n",
    "same_dtree=0\n",
    "diff_dtree=0\n",
    "y_test=y_test.to_list()\n",
    "y_pred=y_pred.to_list()\n",
    "for test,pred in zip(y_test,y_pred):\n",
    "    if test==pred:\n",
    "        same_dtree=same_dtree+1\n",
    "    else:\n",
    "        diff_dtree=diff_dtree+1\n",
    "print('same=',same_dtree)\n",
    "print('diff=',diff_dtree)"
   ]
  },
  {
   "cell_type": "code",
   "execution_count": 6,
   "id": "2b1f3a1e",
   "metadata": {},
   "outputs": [
    {
     "name": "stdout",
     "output_type": "stream",
     "text": [
      "trainscore= 0.9737427898407347\n",
      "testscore= 0.7943639219942578\n",
      "corr= 0.8915266473333172\n",
      "r2score= 0.7936410947919047\n",
      "Mean Squared Error= 17.434291097503532\n",
      "Root Mean Squared Error= 4.17543903050967\n",
      "same= 216\n",
      "diff= 1907\n"
     ]
    }
   ],
   "source": [
    "from sklearn.ensemble import RandomForestRegressor\n",
    "clf=RandomForestRegressor(n_estimators=100,random_state=42)\n",
    "clf.fit(x_train,y_train)\n",
    "print('trainscore=',clf.score(x_train,y_train))\n",
    "y_pred=clf.predict(x_test)\n",
    "y_pred=pd.Series(y_pred)\n",
    "y_test = pd.Series(y_test)\n",
    "y_pred=round(y_pred)\n",
    "y_pred=y_pred.astype(int)\n",
    "print('testscore=',clf.score(x_test,y_test))\n",
    "corr_ran=y_pred.corr(y_test)\n",
    "print('corr=',corr_ran)\n",
    "from sklearn.metrics import mean_squared_error,r2_score\n",
    "r2score_ran=r2_score(y_test,y_pred)\n",
    "print('r2score=',r2score_ran)\n",
    "mse_ran=mean_squared_error(y_test,y_pred)\n",
    "print(\"Mean Squared Error=\",mse_ran)\n",
    "rmse_ran=mean_squared_error(y_test,y_pred,squared=False)\n",
    "print(\"Root Mean Squared Error=\",rmse_ran)\n",
    "same_ran=0\n",
    "diff_ran=0\n",
    "y_test=y_test.to_list()\n",
    "y_pred=y_pred.to_list()\n",
    "for test,pred in zip(y_test,y_pred):\n",
    "    if test==pred:\n",
    "        same_ran=same_ran+1\n",
    "    else:\n",
    "        diff_ran=diff_ran+1\n",
    "print('same=',same_ran)\n",
    "print('diff=',diff_ran)"
   ]
  },
  {
   "cell_type": "code",
   "execution_count": 7,
   "id": "0a621ba0",
   "metadata": {},
   "outputs": [
    {
     "name": "stdout",
     "output_type": "stream",
     "text": [
      "corr= 0.8827307614641946\n",
      "r2 score= 0.7791731684142804\n",
      "Mean Squared Error= 18.656617993405558\n",
      "Root Mean Squared Error= 4.319330734431615\n",
      "same= 167\n",
      "diff= 1956\n"
     ]
    }
   ],
   "source": [
    "from sklearn.ensemble import GradientBoostingRegressor\n",
    "gbr=GradientBoostingRegressor(n_estimators=200,learning_rate=0.2,max_depth=4,random_state=42)\n",
    "gbr.fit(x_train,y_train)\n",
    "y_pred=gbr.predict(x_test)\n",
    "y_pred=pd.Series(y_pred)\n",
    "y_test = pd.Series(y_test)\n",
    "y_pred=round(y_pred)\n",
    "y_pred=y_pred.astype(int)\n",
    "print('corr=',y_pred.corr(y_test))\n",
    "from sklearn.metrics import mean_squared_error,r2_score\n",
    "r2score_gbr=r2_score(y_test,y_pred)\n",
    "print('r2 score=',r2score_gbr)\n",
    "mse_gbr=mean_squared_error(y_test,y_pred)\n",
    "print(f\"Mean Squared Error= {mse_gbr}\")\n",
    "rmse_gbr=mean_squared_error(y_test,y_pred,squared=False)\n",
    "print(f\"Root Mean Squared Error= {rmse_gbr}\")\n",
    "same_gbr=0\n",
    "diff_gbr=0\n",
    "y_test=y_test.to_list()\n",
    "y_pred=y_pred.to_list()\n",
    "for test,pred in zip(y_test,y_pred):\n",
    "    if test==pred:\n",
    "        same_gbr=same_gbr+1\n",
    "    else:\n",
    "        diff_gbr=diff_gbr+1\n",
    "print('same=',same_gbr)\n",
    "print('diff=',diff_gbr)"
   ]
  },
  {
   "cell_type": "code",
   "execution_count": 8,
   "id": "18fff040",
   "metadata": {},
   "outputs": [
    {
     "name": "stdout",
     "output_type": "stream",
     "text": [
      "               r2score        mse      rmse\n",
      "linear        0.381470  52.256712  7.228880\n",
      "svr           0.020491  82.754122  9.096929\n",
      "decisiontree  0.616870  32.368818  5.689360\n",
      "ranfor        0.793641  17.434291  4.175439\n",
      "gbr           0.779173  18.656618  4.319331\n"
     ]
    }
   ],
   "source": [
    "data={'r2score':[r2score_lin,r2score_svm,r2score_dtree,r2score_ran,r2score_gbr],\n",
    "      'mse':[mse_lin,mse_svm,mse_dtree,mse_ran,mse_gbr],\n",
    "      'rmse':[rmse_lin,rmse_svm,rmse_dtree,rmse_ran,rmse_gbr]}\n",
    "target_1=pd.DataFrame(data,index=['linear','svr','decisiontree','ranfor','gbr'])\n",
    "print(target_1)"
   ]
  },
  {
   "cell_type": "code",
   "execution_count": 9,
   "id": "9e9ec2be",
   "metadata": {},
   "outputs": [
    {
     "data": {
      "image/png": "[encoded data removed]",
      "text/plain": [
       "<Figure size 640x480 with 1 Axes>"
      ]
     },
     "metadata": {},
     "output_type": "display_data"
    }
   ],
   "source": [
    "import matplotlib.pyplot as plt\n",
    "y1=target_1['r2score']\n",
    "y2=target_1['mse']\n",
    "y3=target_1['rmse']\n",
    "x=target_1.index.values\n",
    "fig=plt.figure()\n",
    "ax=fig.add_axes([0,0,1,1])\n",
    "ax.scatter(x,y1,color='r')\n",
    "ax.scatter(x,y2,color='b')\n",
    "ax.scatter(x,y3,color='g')\n",
    "ax.legend(labels=['r2score','mse','rmse'])\n",
    "ax.set_xlabel('Error')\n",
    "plt.show()"
   ]
  },
  {
   "cell_type": "code",
   "execution_count": 10,
   "id": "bdc6ee7e",
   "metadata": {},
   "outputs": [
    {
     "name": "stdout",
     "output_type": "stream",
     "text": [
      "              same  diff\n",
      "linear         118  2005\n",
      "svr             93  2030\n",
      "decisiontree   204  1919\n",
      "ranfor         216  1907\n",
      "gbr            167  1956\n"
     ]
    }
   ],
   "source": [
    "data={'same':[same_lin,same_svm,same_dtree,same_ran,same_gbr],\n",
    "      'diff':[diff_lin,diff_svm,diff_dtree,diff_ran,diff_gbr]}\n",
    "target_2=pd.DataFrame(data,index=['linear','svr','decisiontree','ranfor','gbr'])\n",
    "print(target_2)"
   ]
  },
  {
   "cell_type": "code",
   "execution_count": 27,
   "id": "4fb4c08e",
   "metadata": {},
   "outputs": [
    {
     "data": {
      "image/png": "[encoded data removed]",
      "text/plain": [
       "<Figure size 640x480 with 1 Axes>"
      ]
     },
     "metadata": {},
     "output_type": "display_data"
    }
   ],
   "source": [
    "diff=data['diff']\n",
    "same=data['same']\n",
    "x=['lin','svm','dtree','ran','gbr']\n",
    "fig=plt.figure()\n",
    "ax=fig.add_axes([0,0,1,1])\n",
    "X=np.arange(5)\n",
    "ax.bar(X,diff, color = 'r',width=0.25,label='diff')\n",
    "ax.bar(X+0.25,same, color = 'g',width=0.25,label='same')\n",
    "ax.legend(labels=['diff','same'])\n",
    "ax.set_xlabel('Accuracy')\n",
    "ax.set_xticks(X + 0.25/2,x)\n",
    "plt.show()"
   ]
  }
 ],
 "metadata": {
  "kernelspec": {
   "display_name": "Python 3 (ipykernel)",
   "language": "python",
   "name": "python3"
  },
  "language_info": {
   "codemirror_mode": {
    "name": "ipython",
    "version": 3
   },
   "file_extension": ".py",
   "mimetype": "text/x-python",
   "name": "python",
   "nbconvert_exporter": "python",
   "pygments_lexer": "ipython3",
   "version": "3.9.13"
  }
 },
 "nbformat": 4,
 "nbformat_minor": 5
}
