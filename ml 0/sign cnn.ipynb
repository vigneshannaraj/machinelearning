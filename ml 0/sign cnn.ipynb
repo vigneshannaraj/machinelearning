{
 "cells": [
  {
   "cell_type": "markdown",
   "id": "64a94ccb",
   "metadata": {},
   "source": [
    "# Signature verification"
   ]
  },
  {
   "cell_type": "code",
   "execution_count": 9,
   "id": "7000a741",
   "metadata": {},
   "outputs": [],
   "source": [
    "from tensorflow.keras import layers, models\n",
    "from tensorflow.keras.preprocessing.image import ImageDataGenerator\n",
    "from tensorflow.keras.preprocessing import image"
   ]
  },
  {
   "cell_type": "markdown",
   "id": "396cc272",
   "metadata": {},
   "source": [
    "##### Loading data and Normalized"
   ]
  },
  {
   "cell_type": "code",
   "execution_count": 10,
   "id": "7d43ee45",
   "metadata": {},
   "outputs": [
    {
     "name": "stdout",
     "output_type": "stream",
     "text": [
      "Found 865 images belonging to 10 classes.\n",
      "Found 10 images belonging to 10 classes.\n"
     ]
    }
   ],
   "source": [
    "train_gen = ImageDataGenerator(rescale=1/255)\n",
    "test_gen = ImageDataGenerator(rescale=1/255)\n",
    "train= train_gen.flow_from_directory(\n",
    "    'D:/lib/signature/new_train',\n",
    "    target_size=(256, 256),\n",
    "    batch_size=32,\n",
    "    class_mode='categorical')\n",
    "test= test_gen.flow_from_directory(\n",
    "    'D:/lib/signature/new_test',\n",
    "    target_size=(256, 256),\n",
    "    batch_size=32,\n",
    "    class_mode='categorical')"
   ]
  },
  {
   "cell_type": "markdown",
   "id": "b15996fc",
   "metadata": {},
   "source": [
    "##### creating cnn model"
   ]
  },
  {
   "cell_type": "code",
   "execution_count": 11,
   "id": "87f82bb8",
   "metadata": {},
   "outputs": [],
   "source": [
    "model = models.Sequential([\n",
    "    layers.Conv2D(32, (3, 3), activation='relu', input_shape=(256, 256, 3)),\n",
    "    layers.MaxPooling2D((2, 2)),\n",
    "    layers.Conv2D(64, (3, 3), activation='relu'),\n",
    "    layers.MaxPooling2D((2, 2)),\n",
    "    layers.Conv2D(128, (3, 3), activation='relu'),\n",
    "    layers.MaxPooling2D((2, 2)),\n",
    "    layers.Flatten(),\n",
    "    layers.Dense(128, activation='relu'),\n",
    "    layers.Dense(10, activation='softmax')\n",
    "])\n",
    "model.compile(optimizer='adam',\n",
    "              loss='categorical_crossentropy',\n",
    "              metrics=['accuracy'])"
   ]
  },
  {
   "cell_type": "code",
   "execution_count": 12,
   "id": "f1ed8c2b",
   "metadata": {},
   "outputs": [
    {
     "name": "stdout",
     "output_type": "stream",
     "text": [
      "Epoch 1/8\n",
      "28/28 [==============================] - 51s 2s/step - loss: 2.7825 - accuracy: 0.2948\n",
      "Epoch 2/8\n",
      "28/28 [==============================] - 44s 2s/step - loss: 0.4079 - accuracy: 0.8902\n",
      "Epoch 3/8\n",
      "28/28 [==============================] - 46s 2s/step - loss: 0.1699 - accuracy: 0.9503\n",
      "Epoch 4/8\n",
      "28/28 [==============================] - 45s 2s/step - loss: 0.0602 - accuracy: 0.9838\n",
      "Epoch 5/8\n",
      "28/28 [==============================] - 46s 2s/step - loss: 0.0159 - accuracy: 0.9942\n",
      "Epoch 6/8\n",
      "28/28 [==============================] - 47s 2s/step - loss: 0.0230 - accuracy: 0.9931\n",
      "Epoch 7/8\n",
      "28/28 [==============================] - 50s 2s/step - loss: 0.0361 - accuracy: 0.9908\n",
      "Epoch 8/8\n",
      "28/28 [==============================] - 61s 2s/step - loss: 0.0349 - accuracy: 0.9873\n"
     ]
    }
   ],
   "source": [
    "result= model.fit(train,epochs=10)"
   ]
  },
  {
   "cell_type": "code",
   "execution_count": 7,
   "id": "b8bd6767",
   "metadata": {},
   "outputs": [
    {
     "name": "stdout",
     "output_type": "stream",
     "text": [
      "1/1 [==============================] - 0s 479ms/step - loss: 20.7808 - accuracy: 0.1000\n",
      "Test accuracy: 0.10000000149011612\n"
     ]
    }
   ],
   "source": [
    "test_loss, test_accuracy = model.evaluate(test)\n",
    "print(\"Test accuracy:\",test_accuracy)"
   ]
  },
  {
   "cell_type": "code",
   "execution_count": 13,
   "id": "016491b5",
   "metadata": {},
   "outputs": [
    {
     "name": "stdout",
     "output_type": "stream",
     "text": [
      "{0: 'person_1', 1: 'person_10', 2: 'person_2', 3: 'person_3', 4: 'person_4', 5: 'person_5', 6: 'person_6', 7: 'person_7', 8: 'person_8', 9: 'person_9'}\n"
     ]
    }
   ],
   "source": [
    "class_indices = train.class_indices\n",
    "class_indices=dict((v,k) for k,v in class_indices.items())\n",
    "print(class_indices)"
   ]
  },
  {
   "cell_type": "markdown",
   "id": "75458130",
   "metadata": {},
   "source": [
    "##### testing the model"
   ]
  },
  {
   "cell_type": "code",
   "execution_count": 14,
   "id": "4c9aa088",
   "metadata": {},
   "outputs": [
    {
     "name": "stdout",
     "output_type": "stream",
     "text": [
      "1/1 [==============================] - 0s 292ms/step\n",
      "person_7\n"
     ]
    }
   ],
   "source": [
    "find_img2_path = 'D:/lib/signature/new_test/7/7.jpg'\n",
    "find_img2 = image.load_img(find_img2_path, target_size=(256,256,3))\n",
    "find_img2 = image.img_to_array(find_img2)\n",
    "find_img2 = find_img2.reshape((1,) + find_img2.shape)\n",
    "find_img2 /= 255\n",
    "predictions = model.predict(find_img2)\n",
    "prediction=predictions.argmax()\n",
    "true_classes=class_indices[prediction]\n",
    "print(true_classes)"
   ]
  }
 ],
 "metadata": {
  "kernelspec": {
   "display_name": "Python 3 (ipykernel)",
   "language": "python",
   "name": "python3"
  },
  "language_info": {
   "codemirror_mode": {
    "name": "ipython",
    "version": 3
   },
   "file_extension": ".py",
   "mimetype": "text/x-python",
   "name": "python",
   "nbconvert_exporter": "python",
   "pygments_lexer": "ipython3",
   "version": "3.9.13"
  }
 },
 "nbformat": 4,
 "nbformat_minor": 5
}
