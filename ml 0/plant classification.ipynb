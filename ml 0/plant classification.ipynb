{
 "cells": [
  {
   "cell_type": "code",
   "execution_count": 1,
   "id": "7a14027c",
   "metadata": {},
   "outputs": [],
   "source": [
    "import tensorflow as tf\n",
    "from tensorflow.keras import layers, models\n",
    "from tensorflow.keras.preprocessing.image import ImageDataGenerator\n",
    "from tensorflow.keras.preprocessing import image"
   ]
  },
  {
   "cell_type": "code",
   "execution_count": 2,
   "id": "6371d1b9",
   "metadata": {},
   "outputs": [
    {
     "name": "stdout",
     "output_type": "stream",
     "text": [
      "Found 100 images belonging to 4 classes.\n",
      "Found 40 images belonging to 4 classes.\n"
     ]
    }
   ],
   "source": [
    "train_gen = ImageDataGenerator(rescale=1/255)\n",
    "test_gen = ImageDataGenerator(rescale=1/255)\n",
    "train= train_gen.flow_from_directory(\n",
    "    'D:/lib/plants/train',\n",
    "    target_size=(224, 224),\n",
    "    batch_size=32,\n",
    "    class_mode='categorical')\n",
    "test= test_gen.flow_from_directory(\n",
    "    'D:/lib/plants/test',\n",
    "    target_size=(224, 224),\n",
    "    batch_size=32,\n",
    "    class_mode='categorical')"
   ]
  },
  {
   "cell_type": "code",
   "execution_count": 3,
   "id": "54835710",
   "metadata": {},
   "outputs": [],
   "source": [
    "model = models.Sequential([\n",
    "    layers.Conv2D(32, (3, 3), activation='relu', input_shape=(224, 224, 3)),\n",
    "    layers.MaxPooling2D((2, 2)),\n",
    "    layers.Conv2D(64, (3, 3), activation='relu'),\n",
    "    layers.MaxPooling2D((2, 2)),\n",
    "    layers.Conv2D(128, (3, 3), activation='relu'),\n",
    "    layers.MaxPooling2D((2, 2)),\n",
    "    layers.Flatten(),\n",
    "    layers.Dense(128, activation='relu'),\n",
    "    layers.Dense(4, activation='softmax')\n",
    "])\n",
    "model.compile(optimizer='adam',\n",
    "              loss='categorical_crossentropy',\n",
    "              metrics=['accuracy'])"
   ]
  },
  {
   "cell_type": "code",
   "execution_count": 4,
   "id": "6a255214",
   "metadata": {},
   "outputs": [
    {
     "name": "stdout",
     "output_type": "stream",
     "text": [
      "Epoch 1/12\n",
      "4/4 [==============================] - 6s 1s/step - loss: 2.3605 - accuracy: 0.2600\n",
      "Epoch 2/12\n",
      "4/4 [==============================] - 4s 927ms/step - loss: 1.1395 - accuracy: 0.5500\n",
      "Epoch 3/12\n",
      "4/4 [==============================] - 4s 847ms/step - loss: 0.7065 - accuracy: 0.8100\n",
      "Epoch 4/12\n",
      "4/4 [==============================] - 4s 904ms/step - loss: 0.3263 - accuracy: 0.9000\n",
      "Epoch 5/12\n",
      "4/4 [==============================] - 4s 1s/step - loss: 0.2363 - accuracy: 0.9300\n",
      "Epoch 6/12\n",
      "4/4 [==============================] - 4s 868ms/step - loss: 0.2028 - accuracy: 0.9400\n",
      "Epoch 7/12\n",
      "4/4 [==============================] - 4s 878ms/step - loss: 0.1644 - accuracy: 0.9300\n",
      "Epoch 8/12\n",
      "4/4 [==============================] - 4s 1s/step - loss: 0.1169 - accuracy: 0.9600\n",
      "Epoch 9/12\n",
      "4/4 [==============================] - 4s 864ms/step - loss: 0.0827 - accuracy: 0.9600\n",
      "Epoch 10/12\n",
      "4/4 [==============================] - 4s 872ms/step - loss: 0.0693 - accuracy: 0.9600\n",
      "Epoch 11/12\n",
      "4/4 [==============================] - 4s 1s/step - loss: 0.0130 - accuracy: 1.0000\n",
      "Epoch 12/12\n",
      "4/4 [==============================] - 4s 854ms/step - loss: 0.0121 - accuracy: 1.0000\n"
     ]
    }
   ],
   "source": [
    "result= model.fit(\n",
    "    train,\n",
    "    epochs=12)"
   ]
  },
  {
   "cell_type": "code",
   "execution_count": 5,
   "id": "ebbdeda9",
   "metadata": {},
   "outputs": [
    {
     "name": "stdout",
     "output_type": "stream",
     "text": [
      "{0: 'banana', 1: 'corn', 2: 'pineapple', 3: 'watermelon'}\n"
     ]
    }
   ],
   "source": [
    "class_indices = train.class_indices\n",
    "class_indices=dict((v,k) for k,v in class_indices.items())\n",
    "print(class_indices)"
   ]
  },
  {
   "cell_type": "code",
   "execution_count": 13,
   "id": "5106341b",
   "metadata": {},
   "outputs": [
    {
     "name": "stdout",
     "output_type": "stream",
     "text": [
      "2/2 [==============================] - 0s 52ms/step - loss: 0.1745 - accuracy: 0.9750\n",
      "Test accuracy: 0.9750000238418579\n"
     ]
    }
   ],
   "source": [
    "test_loss, test_accuracy = model.evaluate(test)\n",
    "print(\"Test accuracy:\",test_accuracy)"
   ]
  },
  {
   "cell_type": "code",
   "execution_count": 6,
   "id": "db1d2e81",
   "metadata": {},
   "outputs": [
    {
     "name": "stdout",
     "output_type": "stream",
     "text": [
      "1/1 [==============================] - 0s 144ms/step\n"
     ]
    }
   ],
   "source": [
    "find_img1_path = 'D:/lib/plants/dataset_type_of_plants_new/watermelon/watermelon556.jpg'\n",
    "find_img1 = image.load_img(find_img1_path, target_size=(224,224,3))\n",
    "find_img1 = image.img_to_array(find_img1)\n",
    "find_img1 = find_img1.reshape((1,) + find_img1.shape)\n",
    "find_img1 /= 255\n",
    "predictions = model.predict(find_img1)"
   ]
  },
  {
   "cell_type": "code",
   "execution_count": 7,
   "id": "97ff952d",
   "metadata": {},
   "outputs": [
    {
     "name": "stdout",
     "output_type": "stream",
     "text": [
      "watermelon\n"
     ]
    }
   ],
   "source": [
    "prediction=predictions.argmax()\n",
    "true_classes=class_indices[prediction]\n",
    "print(true_classes)"
   ]
  },
  {
   "cell_type": "code",
   "execution_count": 8,
   "id": "7ed96075",
   "metadata": {},
   "outputs": [
    {
     "name": "stdout",
     "output_type": "stream",
     "text": [
      "1/1 [==============================] - 0s 41ms/step\n",
      "banana\n"
     ]
    }
   ],
   "source": [
    "find_img2_path = 'D:/lib/plants/dataset_type_of_plants_new/banana/banana593.jpg'\n",
    "find_img2 = image.load_img(find_img2_path, target_size=(224,224,3))\n",
    "find_img2 = image.img_to_array(find_img2)\n",
    "find_img2 = find_img2.reshape((1,) + find_img2.shape)\n",
    "find_img2 /= 255\n",
    "predictions = model.predict(find_img2)\n",
    "prediction=predictions.argmax()\n",
    "true_classes=class_indices[prediction]\n",
    "print(true_classes)"
   ]
  }
 ],
 "metadata": {
  "kernelspec": {
   "display_name": "Python 3 (ipykernel)",
   "language": "python",
   "name": "python3"
  },
  "language_info": {
   "codemirror_mode": {
    "name": "ipython",
    "version": 3
   },
   "file_extension": ".py",
   "mimetype": "text/x-python",
   "name": "python",
   "nbconvert_exporter": "python",
   "pygments_lexer": "ipython3",
   "version": "3.9.13"
  }
 },
 "nbformat": 4,
 "nbformat_minor": 5
}
