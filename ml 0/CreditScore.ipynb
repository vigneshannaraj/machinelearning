{
 "cells": [
  {
   "cell_type": "code",
   "execution_count": 1,
   "id": "1ed7dd6e",
   "metadata": {},
   "outputs": [],
   "source": [
    "import numpy as np \n",
    "import pandas as pd"
   ]
  },
  {
   "cell_type": "code",
   "execution_count": 32,
   "id": "7e641219",
   "metadata": {},
   "outputs": [
    {
     "name": "stderr",
     "output_type": "stream",
     "text": [
      "C:\\Users\\vigne\\AppData\\Local\\Temp\\ipykernel_6384\\2259057662.py:1: DtypeWarning: Columns (26) have mixed types. Specify dtype option on import or set low_memory=False.\n",
      "  dataset_train=pd.read_csv('D:/lib/creditscore/train.csv')\n"
     ]
    }
   ],
   "source": [
    "dataset_train=pd.read_csv('D:/lib/creditscore/train.csv')\n",
    "dataset_test=pd.read_csv('D:/lib/creditscore/test.csv')"
   ]
  },
  {
   "cell_type": "code",
   "execution_count": 4,
   "id": "9a8a0c72",
   "metadata": {},
   "outputs": [],
   "source": [
    "clean_one=dataset_train[['Age','Occupation','Annual_Income','Monthly_Inhand_Salary', \n",
    "                       'Num_Bank_Accounts','Num_Credit_Card','Interest_Rate','Num_of_Loan',\n",
    "                      'Changed_Credit_Limit','Num_Credit_Inquiries','Credit_Mix',\n",
    "                      'Outstanding_Debt','Total_EMI_per_month']]\n",
    "clean_two=dataset_train[['Delay_from_due_date', 'Num_of_Delayed_Payment','Credit_Utilization_Ratio',\n",
    "                         'Credit_History_Age','Amount_invested_monthly',\n",
    "                      'Payment_Behaviour','Monthly_Balance','Credit_Score']]"
   ]
  },
  {
   "cell_type": "markdown",
   "id": "6b3fc0c3",
   "metadata": {},
   "source": [
    "# DATA CLEANING"
   ]
  },
  {
   "cell_type": "markdown",
   "id": "7edfcb71",
   "metadata": {},
   "source": [
    "##### clean_one"
   ]
  },
  {
   "cell_type": "code",
   "execution_count": 20,
   "id": "2bcfb92b",
   "metadata": {},
   "outputs": [
    {
     "name": "stderr",
     "output_type": "stream",
     "text": [
      "C:\\Users\\vigne\\AppData\\Local\\Temp\\ipykernel_12008\\3304121706.py:2: SettingWithCopyWarning: \n",
      "A value is trying to be set on a copy of a slice from a DataFrame.\n",
      "Try using .loc[row_indexer,col_indexer] = value instead\n",
      "\n",
      "See the caveats in the documentation: https://pandas.pydata.org/pandas-docs/stable/user_guide/indexing.html#returning-a-view-versus-a-copy\n",
      "  clean_one[column]=clean_one[column].replace('_','',regex=True)\n",
      "C:\\Users\\vigne\\AppData\\Local\\Temp\\ipykernel_12008\\3304121706.py:4: SettingWithCopyWarning: \n",
      "A value is trying to be set on a copy of a slice from a DataFrame.\n",
      "Try using .loc[row_indexer,col_indexer] = value instead\n",
      "\n",
      "See the caveats in the documentation: https://pandas.pydata.org/pandas-docs/stable/user_guide/indexing.html#returning-a-view-versus-a-copy\n",
      "  clean_one[column]=clean_one[column].replace('',np.nan,regex=True)\n",
      "C:\\Users\\vigne\\AppData\\Local\\Temp\\ipykernel_12008\\3304121706.py:6: SettingWithCopyWarning: \n",
      "A value is trying to be set on a copy of a slice from a DataFrame.\n",
      "Try using .loc[row_indexer,col_indexer] = value instead\n",
      "\n",
      "See the caveats in the documentation: https://pandas.pydata.org/pandas-docs/stable/user_guide/indexing.html#returning-a-view-versus-a-copy\n",
      "  clean_one[column]=clean_one[column].fillna(method='ffill')\n",
      "C:\\Users\\vigne\\AppData\\Local\\Temp\\ipykernel_12008\\3304121706.py:8: SettingWithCopyWarning: \n",
      "A value is trying to be set on a copy of a slice from a DataFrame.\n",
      "Try using .loc[row_indexer,col_indexer] = value instead\n",
      "\n",
      "See the caveats in the documentation: https://pandas.pydata.org/pandas-docs/stable/user_guide/indexing.html#returning-a-view-versus-a-copy\n",
      "  clean_one[column]=clean_one[column].fillna(method='bfill')\n",
      "C:\\Users\\vigne\\AppData\\Local\\Temp\\ipykernel_12008\\3304121706.py:13: SettingWithCopyWarning: \n",
      "A value is trying to be set on a copy of a slice from a DataFrame.\n",
      "Try using .loc[row_indexer,col_indexer] = value instead\n",
      "\n",
      "See the caveats in the documentation: https://pandas.pydata.org/pandas-docs/stable/user_guide/indexing.html#returning-a-view-versus-a-copy\n",
      "  clean_two[column]=clean_two[column].replace('_','',regex=True)\n",
      "C:\\Users\\vigne\\AppData\\Local\\Temp\\ipykernel_12008\\3304121706.py:15: SettingWithCopyWarning: \n",
      "A value is trying to be set on a copy of a slice from a DataFrame.\n",
      "Try using .loc[row_indexer,col_indexer] = value instead\n",
      "\n",
      "See the caveats in the documentation: https://pandas.pydata.org/pandas-docs/stable/user_guide/indexing.html#returning-a-view-versus-a-copy\n",
      "  clean_two[column]=clean_two[column].replace('',np.nan,regex=True)\n",
      "C:\\Users\\vigne\\AppData\\Local\\Temp\\ipykernel_12008\\3304121706.py:17: SettingWithCopyWarning: \n",
      "A value is trying to be set on a copy of a slice from a DataFrame.\n",
      "Try using .loc[row_indexer,col_indexer] = value instead\n",
      "\n",
      "See the caveats in the documentation: https://pandas.pydata.org/pandas-docs/stable/user_guide/indexing.html#returning-a-view-versus-a-copy\n",
      "  clean_two[column]=clean_two[column].fillna(method='ffill')\n",
      "C:\\Users\\vigne\\AppData\\Local\\Temp\\ipykernel_12008\\3304121706.py:19: SettingWithCopyWarning: \n",
      "A value is trying to be set on a copy of a slice from a DataFrame.\n",
      "Try using .loc[row_indexer,col_indexer] = value instead\n",
      "\n",
      "See the caveats in the documentation: https://pandas.pydata.org/pandas-docs/stable/user_guide/indexing.html#returning-a-view-versus-a-copy\n",
      "  clean_two[column]=clean_two[column].fillna(method='bfill')\n"
     ]
    }
   ],
   "source": [
    "for column in clean_one.columns:\n",
    "    clean_one[column]=clean_one[column].replace('_','',regex=True)\n",
    "for column in clean_one.columns:\n",
    "    clean_one[column]=clean_one[column].replace('',np.nan,regex=True)\n",
    "for column in clean_one.columns:\n",
    "    clean_one[column]=clean_one[column].fillna(method='ffill')\n",
    "for column in clean_one.columns:\n",
    "    clean_one[column]=clean_one[column].fillna(method='bfill')\n",
    "converto={'Age':int,'Annual_Income':float,'Num_of_Loan':int,\n",
    "            'Changed_Credit_Limit':float,'Outstanding_Debt':float}\n",
    "clean_one=clean_one.astype(converto)"
   ]
  },
  {
   "cell_type": "code",
   "execution_count": null,
   "id": "cde34281",
   "metadata": {},
   "outputs": [],
   "source": [
    "clean_one.info()"
   ]
  },
  {
   "cell_type": "code",
   "execution_count": 22,
   "id": "59887da2",
   "metadata": {},
   "outputs": [],
   "source": [
    "n=12500\n",
    "for column in clean_one.columns:\n",
    "    start=0\n",
    "    stop=8\n",
    "    for i in range(n):\n",
    "        memory=clean_one[column].iloc[start:stop]\n",
    "        value=memory.value_counts()\n",
    "        max_value=value.max()\n",
    "        max_index=value[value==max_value].index\n",
    "        min_value=value.min()\n",
    "        min_index=value[value==min_value].index\n",
    "        for i in max_index:\n",
    "            clean_one.loc[start:stop,column]=i\n",
    "            #print(clean_one[column].iloc[start:stop])\n",
    "        start=start+9\n",
    "        stop=stop+9"
   ]
  },
  {
   "cell_type": "code",
   "execution_count": 23,
   "id": "3ae2fcc5",
   "metadata": {},
   "outputs": [],
   "source": [
    "path='D:/lib/creditscore/clean_one.xlsx'\n",
    "clean_one.to_excel(path)"
   ]
  },
  {
   "cell_type": "markdown",
   "id": "4768e874",
   "metadata": {},
   "source": [
    "##### clean_two"
   ]
  },
  {
   "cell_type": "code",
   "execution_count": 5,
   "id": "1a8da47f",
   "metadata": {},
   "outputs": [
    {
     "name": "stderr",
     "output_type": "stream",
     "text": [
      "C:\\Users\\vigne\\AppData\\Local\\Temp\\ipykernel_6384\\4184672394.py:2: SettingWithCopyWarning: \n",
      "A value is trying to be set on a copy of a slice from a DataFrame.\n",
      "Try using .loc[row_indexer,col_indexer] = value instead\n",
      "\n",
      "See the caveats in the documentation: https://pandas.pydata.org/pandas-docs/stable/user_guide/indexing.html#returning-a-view-versus-a-copy\n",
      "  clean_two[column]=clean_two[column].replace('_','',regex=True)\n",
      "C:\\Users\\vigne\\AppData\\Local\\Temp\\ipykernel_6384\\4184672394.py:4: SettingWithCopyWarning: \n",
      "A value is trying to be set on a copy of a slice from a DataFrame.\n",
      "Try using .loc[row_indexer,col_indexer] = value instead\n",
      "\n",
      "See the caveats in the documentation: https://pandas.pydata.org/pandas-docs/stable/user_guide/indexing.html#returning-a-view-versus-a-copy\n",
      "  clean_two[column]=clean_two[column].replace('',np.nan,regex=True)\n",
      "C:\\Users\\vigne\\AppData\\Local\\Temp\\ipykernel_6384\\4184672394.py:6: SettingWithCopyWarning: \n",
      "A value is trying to be set on a copy of a slice from a DataFrame.\n",
      "Try using .loc[row_indexer,col_indexer] = value instead\n",
      "\n",
      "See the caveats in the documentation: https://pandas.pydata.org/pandas-docs/stable/user_guide/indexing.html#returning-a-view-versus-a-copy\n",
      "  clean_two[column]=clean_two[column].fillna(method='ffill')\n",
      "C:\\Users\\vigne\\AppData\\Local\\Temp\\ipykernel_6384\\4184672394.py:8: SettingWithCopyWarning: \n",
      "A value is trying to be set on a copy of a slice from a DataFrame.\n",
      "Try using .loc[row_indexer,col_indexer] = value instead\n",
      "\n",
      "See the caveats in the documentation: https://pandas.pydata.org/pandas-docs/stable/user_guide/indexing.html#returning-a-view-versus-a-copy\n",
      "  clean_two[column]=clean_two[column].fillna(method='bfill')\n"
     ]
    }
   ],
   "source": [
    "for column in clean_two.columns:\n",
    "    clean_two[column]=clean_two[column].replace('_','',regex=True)\n",
    "for column in clean_two.columns:\n",
    "    clean_two[column]=clean_two[column].replace('',np.nan,regex=True)\n",
    "for column in clean_two.columns:\n",
    "    clean_two[column]=clean_two[column].fillna(method='ffill')\n",
    "for column in clean_two.columns:\n",
    "    clean_two[column]=clean_two[column].fillna(method='bfill')\n",
    "convertoo={'Num_of_Delayed_Payment':float,'Amount_invested_monthly':float,'Monthly_Balance':float}\n",
    "clean_two=clean_two.astype(convertoo)"
   ]
  },
  {
   "cell_type": "code",
   "execution_count": null,
   "id": "f40f9ec7",
   "metadata": {},
   "outputs": [],
   "source": [
    "clean_two.info()"
   ]
  },
  {
   "cell_type": "code",
   "execution_count": 6,
   "id": "ad113153",
   "metadata": {},
   "outputs": [
    {
     "name": "stdout",
     "output_type": "stream",
     "text": [
      "int64\n",
      "float64\n",
      "float64\n",
      "object\n",
      "float64\n",
      "object\n",
      "float64\n",
      "object\n"
     ]
    }
   ],
   "source": [
    "for column in clean_two.columns:\n",
    "    print(clean_two[column].dtype)\n",
    "    if clean_two[column].dtype==float:\n",
    "        clean_two[column]=clean_two[column].round(decimals=0)\n",
    "        clean_two[column]=clean_two[column].abs()\n",
    "    elif clean_two[column].dtype==object:\n",
    "        pass\n",
    "    else:\n",
    "        clean_two[column]=clean_two[column].abs()"
   ]
  },
  {
   "cell_type": "code",
   "execution_count": 10,
   "id": "d63feb5c",
   "metadata": {},
   "outputs": [],
   "source": [
    "temp=clean_two['Credit_History_Age']\n",
    "temp=pd.Series(temp)\n",
    "sub=temp.str.split(r'Years|and|Months',expand=True)\n",
    "subb=sub[0].str.strip()+sub[2].str.strip()\n",
    "result=[]\n",
    "for i in subb:\n",
    "    if len(i)==3:\n",
    "        i=int(i)\n",
    "        i=i/10\n",
    "        result.append(i)\n",
    "    elif len(i)==4:\n",
    "        i=int(i)\n",
    "        i=i/100\n",
    "        result.append(i)\n",
    "    else:\n",
    "        i=float(i)\n",
    "        result.append(i)\n",
    "value=pd.Series(result)\n",
    "value=value.round(decimals=0)\n",
    "clean_two['Credit_History_Age']=value.values"
   ]
  },
  {
   "cell_type": "code",
   "execution_count": 11,
   "id": "9b7dfc85",
   "metadata": {},
   "outputs": [],
   "source": [
    "path='D:/lib/creditscore/clean_two.xlsx'\n",
    "clean_two.to_excel(path)"
   ]
  },
  {
   "cell_type": "code",
   "execution_count": 14,
   "id": "722bfa97",
   "metadata": {},
   "outputs": [],
   "source": [
    "clean_one=pd.read_excel('D:/lib/creditscore/clean_one.xlsx',index_col=0)\n",
    "clean_two=pd.read_excel('D:/lib/creditscore/clean_two.xlsx',index_col=0)"
   ]
  },
  {
   "cell_type": "code",
   "execution_count": null,
   "id": "2e2a1cf0",
   "metadata": {},
   "outputs": [],
   "source": [
    "data=dataset_train['Month']\n",
    "clean_train=pd.concat([data,clean_one,clean_two],axis=1)"
   ]
  },
  {
   "cell_type": "code",
   "execution_count": 28,
   "id": "e7dea45c",
   "metadata": {},
   "outputs": [],
   "source": [
    "#clean_train['Payment_Behaviour'].unique()\n",
    "place=clean_train[clean_train['Payment_Behaviour']=='!@9#%8'].index\n",
    "clean_train.drop(place,inplace=True)"
   ]
  },
  {
   "cell_type": "code",
   "execution_count": 29,
   "id": "38bb2abb",
   "metadata": {},
   "outputs": [],
   "source": [
    "path='D:/lib/creditscore/clean_train.xlsx'\n",
    "clean_train.to_excel(path)"
   ]
  },
  {
   "cell_type": "markdown",
   "id": "45fa250f",
   "metadata": {},
   "source": [
    "# Machine learning "
   ]
  },
  {
   "cell_type": "code",
   "execution_count": 4,
   "id": "84cc4ebc",
   "metadata": {},
   "outputs": [],
   "source": [
    "import pandas as pd\n",
    "import numpy as np\n",
    "clean_train=pd.read_excel('D:/lib/creditscore/clean_train.xlsx',index_col=0)"
   ]
  },
  {
   "cell_type": "code",
   "execution_count": 5,
   "id": "be008232",
   "metadata": {},
   "outputs": [],
   "source": [
    "x=clean_train.iloc[:,0:21]\n",
    "y=clean_train['Credit_Score']\n",
    "from sklearn import preprocessing\n",
    "le = preprocessing.LabelEncoder()\n",
    "for i in x:\n",
    "    if x[i].dtype==object:\n",
    "        x[i]= le.fit_transform(x[i])\n",
    "from sklearn.model_selection import train_test_split,GridSearchCV\n",
    "x_train, x_test, y_train, y_test = train_test_split(x, y,test_size=0.10)"
   ]
  },
  {
   "cell_type": "code",
   "execution_count": 9,
   "id": "9765b048",
   "metadata": {},
   "outputs": [
    {
     "name": "stdout",
     "output_type": "stream",
     "text": [
      "              precision    recall  f1-score   support\n",
      "\n",
      "        Good       0.60      0.60      0.60      1621\n",
      "        Poor       0.66      0.65      0.65      2649\n",
      "    Standard       0.72      0.73      0.72      4970\n",
      "\n",
      "    accuracy                           0.68      9240\n",
      "   macro avg       0.66      0.66      0.66      9240\n",
      "weighted avg       0.68      0.68      0.68      9240\n",
      "\n"
     ]
    }
   ],
   "source": [
    "from sklearn.tree import DecisionTreeClassifier\n",
    "dtree=DecisionTreeClassifier()\n",
    "grid = {\n",
    "    'criterion': ['gini','entropy'],\n",
    "    'max_depth': [None,10,20,30],\n",
    "    'min_samples_split': [2,5,10],\n",
    "    'min_samples_leaf': [1,2,4]\n",
    "}\n",
    "#grid_search = GridSearchCV(estimator=dtree,param_grid=grid,cv=5)\n",
    "#grid_search.fit(x_train,y_train)\n",
    "#y_pred=grid_search.predict(x_test)\n",
    "dtree.fit(x_train,y_train)\n",
    "dtree.predict(x_test)\n",
    "from sklearn.metrics import classification_report\n",
    "from sklearn.metrics import confusion_matrix\n",
    "print(classification_report(y_test, y_pred))"
   ]
  },
  {
   "cell_type": "code",
   "execution_count": 6,
   "id": "649b487c",
   "metadata": {},
   "outputs": [
    {
     "name": "stdout",
     "output_type": "stream",
     "text": [
      "              precision    recall  f1-score   support\n",
      "\n",
      "        Good       0.76      0.65      0.70      1621\n",
      "        Poor       0.76      0.75      0.75      2649\n",
      "    Standard       0.78      0.82      0.79      4970\n",
      "\n",
      "    accuracy                           0.77      9240\n",
      "   macro avg       0.76      0.74      0.75      9240\n",
      "weighted avg       0.77      0.77      0.77      9240\n",
      "\n",
      "[[1057   25  539]\n",
      " [  25 1986  638]\n",
      " [ 306  609 4055]]\n"
     ]
    }
   ],
   "source": [
    "from sklearn.ensemble import RandomForestClassifier\n",
    "clf=RandomForestClassifier()\n",
    "grid = {\n",
    "    'n_estimators': [100,200,300],\n",
    "    'max_depth': [None,10,20],\n",
    "    'min_samples_split': [2,5,10],\n",
    "    'min_samples_leaf': [1,2,4],\n",
    "    'max_features': ['auto', 'sqrt']\n",
    "}\n",
    "#grid_search=GridSearchCV(estimator=clf,param_grid=grid,cv=5,n_jobs=-1)\n",
    "#grid_search.fit(x_train,y_train)\n",
    "#y_pred=grid_search.predict(x_test)\n",
    "clf.fit(x_train,y_train)\n",
    "y_pred=clf.predict(x_test)\n",
    "from sklearn.metrics import classification_report,confusion_matrix\n",
    "print(classification_report(y_test,y_pred))\n",
    "print(confusion_matrix(y_test,y_pred))"
   ]
  },
  {
   "cell_type": "code",
   "execution_count": 7,
   "id": "b3c5a635",
   "metadata": {},
   "outputs": [
    {
     "name": "stdout",
     "output_type": "stream",
     "text": [
      "              precision    recall  f1-score   support\n",
      "\n",
      "        Good       0.55      0.12      0.19      1679\n",
      "        Poor       0.63      0.39      0.48      2646\n",
      "    Standard       0.58      0.86      0.69      4915\n",
      "\n",
      "    accuracy                           0.59      9240\n",
      "   macro avg       0.59      0.45      0.45      9240\n",
      "weighted avg       0.59      0.59      0.54      9240\n",
      "\n"
     ]
    }
   ],
   "source": [
    "from sklearn.neural_network import MLPClassifier\n",
    "clf = MLPClassifier(hidden_layer_sizes=(25,25,15),alpha=0.01)\n",
    "clf.fit(x_train,y_train)\n",
    "y_pred=clf.predict(x_test)\n",
    "from sklearn.metrics import classification_report,confusion_matrix\n",
    "print(classification_report(y_test,y_pred))"
   ]
  },
  {
   "cell_type": "code",
   "execution_count": null,
   "id": "836939d0",
   "metadata": {},
   "outputs": [],
   "source": [
    "random_search = RandomizedSearchCV(rf_model, param_distributions=param_dist, n_iter=100, cv=5, scoring='accuracy', random_state=42)\n",
    "grid = {\n",
    "    'hidden_layer_sizes': [(25,25,25),(25,25,15),(100,50)],\n",
    "    'activation': ['tanh','relu'],\n",
    "    'solver': ['lbfgs','sgd','adam'],\n",
    "    'alpha': [0.0001,0.001,0.01]\n",
    "}\n",
    "grid_search=GridSearchCV(estimator=clf,param_grid=grid,cv=5)\n",
    "grid_search.fit(x_train,y_train)\n",
    "y_pred=grid_search.predict(x_test)"
   ]
  }
 ],
 "metadata": {
  "kernelspec": {
   "display_name": "Python 3 (ipykernel)",
   "language": "python",
   "name": "python3"
  },
  "language_info": {
   "codemirror_mode": {
    "name": "ipython",
    "version": 3
   },
   "file_extension": ".py",
   "mimetype": "text/x-python",
   "name": "python",
   "nbconvert_exporter": "python",
   "pygments_lexer": "ipython3",
   "version": "3.9.13"
  }
 },
 "nbformat": 4,
 "nbformat_minor": 5
}
